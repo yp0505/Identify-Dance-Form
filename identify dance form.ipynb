{
 "cells": [
  {
   "cell_type": "code",
   "execution_count": 10,
   "metadata": {},
   "outputs": [],
   "source": [
    "import keras\n",
    "from keras.models import Sequential\n",
    "from keras.layers import Dense, Dropout, Flatten\n",
    "from keras.layers import Conv2D, MaxPooling2D\n",
    "from keras.utils import to_categorical\n",
    "from keras.preprocessing import image\n",
    "import numpy as np\n",
    "import pandas as pd\n",
    "import matplotlib.pyplot as plt\n",
    "from sklearn.model_selection import train_test_split\n",
    "from keras.utils import to_categorical\n",
    "from tqdm import tqdm"
   ]
  },
  {
   "cell_type": "code",
   "execution_count": 11,
   "metadata": {},
   "outputs": [],
   "source": [
    "train = pd.read_csv('E:/datasets/hackerearth_Challenge/new/dataset/train.csv')"
   ]
  },
  {
   "cell_type": "code",
   "execution_count": 12,
   "metadata": {},
   "outputs": [],
   "source": [
    "#mapping target variables to integers\n",
    "train['target'] = train['target'].map({'manipuri': 0, 'bharatanatyam': 1,'odissi': 2,'kathakali': 3,'kathak': 4,'sattriya': 5,'kuchipudi': 6,'mohiniyattam':7})"
   ]
  },
  {
   "cell_type": "code",
   "execution_count": 72,
   "metadata": {},
   "outputs": [
    {
     "name": "stderr",
     "output_type": "stream",
     "text": [
      "100%|███████████████████████████████████████████████████████████████████████████████| 364/364 [00:00<00:00, 490.97it/s]\n"
     ]
    }
   ],
   "source": [
    "#loading train images into array\n",
    "train_image = []\n",
    "for i in tqdm(range(train.shape[0])):\n",
    "    img = image.load_img('E:/datasets/hackerearth_Challenge/new/dataset/train/'+train['Image'][i], target_size=(28,28,3), grayscale=False)\n",
    "    img = image.img_to_array(img)\n",
    "    img = img/255\n",
    "    train_image.append(img)\n",
    "X = np.array(train_image)"
   ]
  },
  {
   "cell_type": "code",
   "execution_count": 73,
   "metadata": {},
   "outputs": [],
   "source": [
    "y=train['target'].values\n",
    "y = to_categorical(y)"
   ]
  },
  {
   "cell_type": "code",
   "execution_count": 74,
   "metadata": {},
   "outputs": [],
   "source": [
    "#creating validation set\n",
    "X_train, X_test, y_train, y_test = train_test_split(X, y, random_state=42, test_size=0.2)\n"
   ]
  },
  {
   "cell_type": "code",
   "execution_count": 75,
   "metadata": {},
   "outputs": [],
   "source": [
    "#Cnn layers\n",
    "model = Sequential()\n",
    "model.add(Conv2D(32, kernel_size=(3, 3),activation='relu',input_shape=(28,28,3)))\n",
    "model.add(Conv2D(64, (3, 3), activation='relu'))\n",
    "model.add(MaxPooling2D(pool_size=(2, 2)))\n",
    "model.add(Dropout(0.25))\n",
    "model.add(Flatten())\n",
    "model.add(Dense(128, activation='relu'))\n",
    "model.add(Dropout(0.5))\n",
    "model.add(Dense(8, activation='softmax'))"
   ]
  },
  {
   "cell_type": "code",
   "execution_count": 76,
   "metadata": {},
   "outputs": [],
   "source": [
    "model.compile(loss='categorical_crossentropy',optimizer='Adam',metrics=['accuracy'])"
   ]
  },
  {
   "cell_type": "code",
   "execution_count": 77,
   "metadata": {},
   "outputs": [
    {
     "name": "stdout",
     "output_type": "stream",
     "text": [
      "Train on 291 samples, validate on 73 samples\n",
      "Epoch 1/10\n",
      "291/291 [==============================] - 1s 2ms/step - loss: 2.1606 - accuracy: 0.1340 - val_loss: 2.0719 - val_accuracy: 0.1096\n",
      "Epoch 2/10\n",
      "291/291 [==============================] - 1s 2ms/step - loss: 2.0485 - accuracy: 0.1890 - val_loss: 2.0506 - val_accuracy: 0.1644\n",
      "Epoch 3/10\n",
      "291/291 [==============================] - 1s 2ms/step - loss: 1.9871 - accuracy: 0.2646 - val_loss: 1.9928 - val_accuracy: 0.2877\n",
      "Epoch 4/10\n",
      "291/291 [==============================] - 1s 2ms/step - loss: 1.8686 - accuracy: 0.3333 - val_loss: 1.9161 - val_accuracy: 0.3151\n",
      "Epoch 5/10\n",
      "291/291 [==============================] - 1s 2ms/step - loss: 1.6698 - accuracy: 0.4502 - val_loss: 1.9560 - val_accuracy: 0.2740\n",
      "Epoch 6/10\n",
      "291/291 [==============================] - 1s 2ms/step - loss: 1.6494 - accuracy: 0.4433 - val_loss: 1.7524 - val_accuracy: 0.3425\n",
      "Epoch 7/10\n",
      "291/291 [==============================] - 1s 2ms/step - loss: 1.4410 - accuracy: 0.5361 - val_loss: 1.7684 - val_accuracy: 0.3151\n",
      "Epoch 8/10\n",
      "291/291 [==============================] - 1s 2ms/step - loss: 1.3123 - accuracy: 0.5464 - val_loss: 1.8057 - val_accuracy: 0.3288\n",
      "Epoch 9/10\n",
      "291/291 [==============================] - 1s 2ms/step - loss: 1.1223 - accuracy: 0.6770 - val_loss: 1.6870 - val_accuracy: 0.4110\n",
      "Epoch 10/10\n",
      "291/291 [==============================] - 1s 2ms/step - loss: 0.9520 - accuracy: 0.6976 - val_loss: 1.7120 - val_accuracy: 0.4247\n"
     ]
    },
    {
     "data": {
      "text/plain": [
       "<keras.callbacks.callbacks.History at 0x2291b8b8f48>"
      ]
     },
     "execution_count": 77,
     "metadata": {},
     "output_type": "execute_result"
    }
   ],
   "source": [
    "model.fit(X_train, y_train, epochs=10, validation_data=(X_test, y_test))"
   ]
  },
  {
   "cell_type": "code",
   "execution_count": 78,
   "metadata": {},
   "outputs": [],
   "source": [
    "test = pd.read_csv('E:/datasets/hackerearth_Challenge/new/dataset/test.csv')"
   ]
  },
  {
   "cell_type": "code",
   "execution_count": 79,
   "metadata": {},
   "outputs": [
    {
     "name": "stderr",
     "output_type": "stream",
     "text": [
      "100%|███████████████████████████████████████████████████████████████████████████████| 156/156 [00:00<00:00, 462.03it/s]\n"
     ]
    }
   ],
   "source": [
    "test_image = []\n",
    "for i in tqdm(range(test.shape[0])):\n",
    "    img = image.load_img('E:/datasets/hackerearth_Challenge/new/dataset/test/'+test['Image'][i], target_size=(28,28,3), grayscale=False)\n",
    "    img = image.img_to_array(img)\n",
    "    img = img/255\n",
    "    test_image.append(img)\n",
    "test = np.array(test_image)"
   ]
  },
  {
   "cell_type": "code",
   "execution_count": 80,
   "metadata": {},
   "outputs": [],
   "source": [
    "# making predictions\n",
    "prediction = model.predict_classes(test)"
   ]
  },
  {
   "cell_type": "code",
   "execution_count": 81,
   "metadata": {},
   "outputs": [
    {
     "data": {
      "text/plain": [
       "array([6, 4, 6, 2, 4, 6, 0, 6, 1, 2, 7, 1, 5, 5, 1, 1, 6, 1, 7, 2, 6, 3,\n",
       "       3, 6, 0, 4, 7, 1, 2, 1, 0, 2, 0, 1, 7, 6, 2, 2, 0, 7, 4, 4, 4, 6,\n",
       "       5, 7, 6, 5, 3, 6, 7, 7, 0, 6, 6, 4, 6, 2, 4, 5, 6, 5, 4, 6, 6, 6,\n",
       "       3, 1, 6, 6, 4, 6, 4, 7, 4, 3, 0, 6, 3, 6, 6, 6, 7, 3, 6, 3, 5, 4,\n",
       "       0, 6, 0, 3, 4, 4, 6, 6, 4, 0, 3, 6, 6, 3, 1, 3, 6, 6, 3, 2, 0, 2,\n",
       "       5, 3, 6, 2, 6, 6, 3, 3, 7, 6, 2, 6, 6, 6, 2, 7, 6, 5, 4, 0, 3, 0,\n",
       "       1, 3, 4, 3, 2, 0, 6, 7, 5, 4, 6, 0, 4, 3, 4, 5, 0, 6, 4, 5, 3, 4,\n",
       "       2, 5], dtype=int64)"
      ]
     },
     "execution_count": 81,
     "metadata": {},
     "output_type": "execute_result"
    }
   ],
   "source": [
    "prediction"
   ]
  },
  {
   "cell_type": "code",
   "execution_count": 82,
   "metadata": {},
   "outputs": [],
   "source": [
    "# creating submission file\n",
    "sample = pd.read_csv('E:/datasets/hackerearth_Challenge/new/dataset/test.csv')\n",
    "sample['target'] = prediction\n",
    "sample.to_csv('E:/datasets/hackerearth_Challenge/new/dataset/sample_cnn1.csv', header=True, index=False)"
   ]
  },
  {
   "cell_type": "code",
   "execution_count": 83,
   "metadata": {},
   "outputs": [],
   "source": [
    "data = pd.read_csv('E:/datasets/hackerearth_Challenge/new/dataset/sample_cnn1.csv')"
   ]
  },
  {
   "cell_type": "code",
   "execution_count": 84,
   "metadata": {},
   "outputs": [],
   "source": [
    "#mapping target variables to integers\n",
    "data['target'] = data['target'].map({0:'manipuri', 1:'bharatanatyam',2:'odissi',3:'kathakali',4:'kathak',5:'sattriya',6:'kuchipudi',7:'mohiniyattam'})"
   ]
  },
  {
   "cell_type": "code",
   "execution_count": 85,
   "metadata": {},
   "outputs": [
    {
     "data": {
      "text/html": [
       "<div>\n",
       "<style scoped>\n",
       "    .dataframe tbody tr th:only-of-type {\n",
       "        vertical-align: middle;\n",
       "    }\n",
       "\n",
       "    .dataframe tbody tr th {\n",
       "        vertical-align: top;\n",
       "    }\n",
       "\n",
       "    .dataframe thead th {\n",
       "        text-align: right;\n",
       "    }\n",
       "</style>\n",
       "<table border=\"1\" class=\"dataframe\">\n",
       "  <thead>\n",
       "    <tr style=\"text-align: right;\">\n",
       "      <th></th>\n",
       "      <th>Image</th>\n",
       "      <th>target</th>\n",
       "    </tr>\n",
       "  </thead>\n",
       "  <tbody>\n",
       "    <tr>\n",
       "      <th>0</th>\n",
       "      <td>508.jpg</td>\n",
       "      <td>kuchipudi</td>\n",
       "    </tr>\n",
       "    <tr>\n",
       "      <th>1</th>\n",
       "      <td>246.jpg</td>\n",
       "      <td>kathak</td>\n",
       "    </tr>\n",
       "    <tr>\n",
       "      <th>2</th>\n",
       "      <td>473.jpg</td>\n",
       "      <td>kuchipudi</td>\n",
       "    </tr>\n",
       "    <tr>\n",
       "      <th>3</th>\n",
       "      <td>485.jpg</td>\n",
       "      <td>odissi</td>\n",
       "    </tr>\n",
       "    <tr>\n",
       "      <th>4</th>\n",
       "      <td>128.jpg</td>\n",
       "      <td>kathak</td>\n",
       "    </tr>\n",
       "  </tbody>\n",
       "</table>\n",
       "</div>"
      ],
      "text/plain": [
       "     Image     target\n",
       "0  508.jpg  kuchipudi\n",
       "1  246.jpg     kathak\n",
       "2  473.jpg  kuchipudi\n",
       "3  485.jpg     odissi\n",
       "4  128.jpg     kathak"
      ]
     },
     "execution_count": 85,
     "metadata": {},
     "output_type": "execute_result"
    }
   ],
   "source": [
    "data.head()"
   ]
  },
  {
   "cell_type": "code",
   "execution_count": 86,
   "metadata": {},
   "outputs": [],
   "source": [
    "data.to_csv(r'E:/datasets/hackerearth_Challenge/new/dataset/submission2.csv', index = False)"
   ]
  },
  {
   "cell_type": "code",
   "execution_count": null,
   "metadata": {},
   "outputs": [],
   "source": []
  }
 ],
 "metadata": {
  "kernelspec": {
   "display_name": "Python [conda env:py3-TF2.1]",
   "language": "python",
   "name": "conda-env-py3-TF2.1-py"
  },
  "language_info": {
   "codemirror_mode": {
    "name": "ipython",
    "version": 3
   },
   "file_extension": ".py",
   "mimetype": "text/x-python",
   "name": "python",
   "nbconvert_exporter": "python",
   "pygments_lexer": "ipython3",
   "version": "3.7.7"
  }
 },
 "nbformat": 4,
 "nbformat_minor": 2
}
